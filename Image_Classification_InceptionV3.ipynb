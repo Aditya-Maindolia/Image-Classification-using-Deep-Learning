{
  "nbformat": 4,
  "nbformat_minor": 0,
  "metadata": {
    "colab": {
      "provenance": [],
      "gpuType": "T4"
    },
    "kernelspec": {
      "name": "python3",
      "display_name": "Python 3"
    },
    "language_info": {
      "name": "python"
    },
    "accelerator": "GPU"
  },
  "cells": [
    {
      "cell_type": "code",
      "execution_count": null,
      "metadata": {
        "id": "OByxB88RT_jK"
      },
      "outputs": [],
      "source": [
        "import numpy as np\n",
        "import tensorflow\n",
        "import random\n",
        "import matplotlib.pyplot as plt\n",
        "from tensorflow.keras import datasets, layers\n",
        "from tensorflow.keras.models import Sequential\n",
        "from tensorflow.keras.layers import Dense,GlobalAveragePooling2D\n",
        "from tensorflow.keras.applications import InceptionV3"
      ]
    },
    {
      "cell_type": "code",
      "source": [
        "(train_images, train_labels), (test_images, test_labels) = datasets.cifar10.load_data()\n",
        "\n",
        "train_images = train_images / 255.0\n",
        "test_images = test_images / 255.0"
      ],
      "metadata": {
        "colab": {
          "base_uri": "https://localhost:8080/"
        },
        "id": "nDebr387UKpI",
        "outputId": "191a2bfe-bc28-45db-d04f-2ba371c514c8"
      },
      "execution_count": null,
      "outputs": [
        {
          "output_type": "stream",
          "name": "stdout",
          "text": [
            "Downloading data from https://www.cs.toronto.edu/~kriz/cifar-10-python.tar.gz\n",
            "170498071/170498071 [==============================] - 13s 0us/step\n"
          ]
        }
      ]
    },
    {
      "cell_type": "code",
      "source": [
        "print(\"Shape of train_images: \",train_images.shape)\n",
        "print(\"Shape of train_labels: \",train_labels.shape)\n",
        "print(\"Shape of test_images: \",test_images.shape)\n",
        "print(\"Shape of test_labels: \",test_labels.shape)"
      ],
      "metadata": {
        "colab": {
          "base_uri": "https://localhost:8080/"
        },
        "id": "5ESzv9LAVZIc",
        "outputId": "dc0c2df1-672f-43ec-df1c-ce3f63ff5242"
      },
      "execution_count": null,
      "outputs": [
        {
          "output_type": "stream",
          "name": "stdout",
          "text": [
            "Shape of train_images:  (50000, 32, 32, 3)\n",
            "Shape of train_labels:  (50000, 1)\n",
            "Shape of test_images:  (10000, 32, 32, 3)\n",
            "Shape of test_labels:  (10000, 1)\n"
          ]
        }
      ]
    },
    {
      "cell_type": "code",
      "source": [
        "id = random.randint(0,len(train_images)-1)\n",
        "plt.figure(figsize=(2,2))\n",
        "plt.imshow(train_images[id])\n",
        "plt.show()"
      ],
      "metadata": {
        "colab": {
          "base_uri": "https://localhost:8080/",
          "height": 217
        },
        "id": "c8gDfVGwVlTZ",
        "outputId": "45d80121-2316-42c1-d3fa-fd3e6a5972ca"
      },
      "execution_count": null,
      "outputs": [
        {
          "output_type": "display_data",
          "data": {
            "text/plain": [
              "<Figure size 200x200 with 1 Axes>"
            ],
            "image/png": "[encoded data removed]"
          },
          "metadata": {}
        }
      ]
    },
    {
      "cell_type": "code",
      "source": [
        "base_model = InceptionV3(weights='imagenet', include_top=False, input_shape=(224, 224, 3))"
      ],
      "metadata": {
        "colab": {
          "base_uri": "https://localhost:8080/"
        },
        "id": "Dmtn-TmwVxCn",
        "outputId": "29ffab31-3485-4262-af25-ec867d51d845"
      },
      "execution_count": null,
      "outputs": [
        {
          "output_type": "stream",
          "name": "stdout",
          "text": [
            "Downloading data from https://storage.googleapis.com/tensorflow/keras-applications/inception_v3/inception_v3_weights_tf_dim_ordering_tf_kernels_notop.h5\n",
            "87910968/87910968 [==============================] - 5s 0us/step\n"
          ]
        }
      ]
    },
    {
      "cell_type": "code",
      "source": [
        "for layer in base_model.layers:\n",
        "    layer.trainable = False"
      ],
      "metadata": {
        "id": "3TUbRaO4V15l"
      },
      "execution_count": null,
      "outputs": []
    },
    {
      "cell_type": "code",
      "source": [
        "model = Sequential([\n",
        "    layers.UpSampling2D(size=(7, 7)),\n",
        "    base_model,\n",
        "    layers.GlobalAveragePooling2D(),\n",
        "    layers.Dense(256, activation='relu'),\n",
        "    layers.Dropout(0.5),\n",
        "    layers.Dense(10, activation='softmax')\n",
        "])"
      ],
      "metadata": {
        "id": "qKMtZ7uJV8Vn"
      },
      "execution_count": null,
      "outputs": []
    },
    {
      "cell_type": "code",
      "source": [
        "model.compile(optimizer='adam', loss='sparse_categorical_crossentropy', metrics=['accuracy'])\n",
        "history = model.fit(train_images,train_labels, epochs=5,batch_size = 128, validation_data=(test_images, test_labels))"
      ],
      "metadata": {
        "colab": {
          "base_uri": "https://localhost:8080/"
        },
        "id": "_SmyQNTUWAXb",
        "outputId": "a608d60a-b6fd-4daf-d85f-b270a0c4b39e"
      },
      "execution_count": null,
      "outputs": [
        {
          "output_type": "stream",
          "name": "stdout",
          "text": [
            "Epoch 1/5\n",
            "391/391 [==============================] - 147s 348ms/step - loss: 0.7197 - accuracy: 0.7646 - val_loss: 0.5356 - val_accuracy: 0.8163\n",
            "Epoch 2/5\n",
            "391/391 [==============================] - 114s 292ms/step - loss: 0.5549 - accuracy: 0.8142 - val_loss: 0.4892 - val_accuracy: 0.8336\n",
            "Epoch 3/5\n",
            "391/391 [==============================] - 116s 296ms/step - loss: 0.5153 - accuracy: 0.8257 - val_loss: 0.4694 - val_accuracy: 0.8384\n",
            "Epoch 4/5\n",
            "391/391 [==============================] - 114s 292ms/step - loss: 0.4825 - accuracy: 0.8354 - val_loss: 0.4657 - val_accuracy: 0.8384\n",
            "Epoch 5/5\n",
            "391/391 [==============================] - 114s 292ms/step - loss: 0.4622 - accuracy: 0.8397 - val_loss: 0.4481 - val_accuracy: 0.8462\n"
          ]
        }
      ]
    },
    {
      "cell_type": "code",
      "source": [
        "plt.figure(figsize=(8, 8))\n",
        "plt.plot(history.history['accuracy'], label='accuracy')\n",
        "plt.plot(history.history['val_accuracy'], label = 'val_accuracy')\n",
        "plt.xlabel('Epoch')\n",
        "plt.ylabel('Accuracy')\n",
        "plt.ylim([0.5, 1])\n",
        "plt.legend(loc='lower right')\n",
        "plt.savefig('accuracy_graph.png')"
      ],
      "metadata": {
        "colab": {
          "base_uri": "https://localhost:8080/",
          "height": 701
        },
        "id": "iFXiuOCMYStX",
        "outputId": "1c27a377-50d8-4e26-f11c-08d3cb51cec2"
      },
      "execution_count": null,
      "outputs": [
        {
          "output_type": "display_data",
          "data": {
            "text/plain": [
              "<Figure size 800x800 with 1 Axes>"
            ],
            "image/png": "[encoded data removed]"
          },
          "metadata": {}
        }
      ]
    },
    {
      "cell_type": "code",
      "source": [
        "model.evaluate(train_images,train_labels,batch_size=128)"
      ],
      "metadata": {
        "colab": {
          "base_uri": "https://localhost:8080/"
        },
        "id": "KlkC79C3Ya58",
        "outputId": "76aa8e7e-3e8e-410b-9140-d6d09f6f58ca"
      },
      "execution_count": null,
      "outputs": [
        {
          "output_type": "stream",
          "name": "stdout",
          "text": [
            "391/391 [==============================] - 96s 245ms/step - loss: 0.3475 - accuracy: 0.8803\n"
          ]
        },
        {
          "output_type": "execute_result",
          "data": {
            "text/plain": [
              "[0.34745675325393677, 0.8802800178527832]"
            ]
          },
          "metadata": {},
          "execution_count": 20
        }
      ]
    },
    {
      "cell_type": "code",
      "source": [
        "model.evaluate(test_images,test_labels, batch_size=128)"
      ],
      "metadata": {
        "colab": {
          "base_uri": "https://localhost:8080/"
        },
        "id": "-AK67Lc4Ygi8",
        "outputId": "beb96db0-a0df-49be-8487-d70d3e3e4b78"
      },
      "execution_count": null,
      "outputs": [
        {
          "output_type": "stream",
          "name": "stdout",
          "text": [
            "79/79 [==============================] - 19s 242ms/step - loss: 0.4481 - accuracy: 0.8462\n"
          ]
        },
        {
          "output_type": "execute_result",
          "data": {
            "text/plain": [
              "[0.44805487990379333, 0.8461999893188477]"
            ]
          },
          "metadata": {},
          "execution_count": 21
        }
      ]
    },
    {
      "cell_type": "code",
      "source": [
        "labels = '''airplane automobile bird cat deer dog frog horse ship truck'''.split()\n",
        "image_number = random.randint(0,len(test_labels))\n",
        "plt.figure(figsize=(2,2))\n",
        "plt.imshow(test_images[image_number])\n",
        "\n",
        "n = np.array(test_images[image_number])\n",
        "\n",
        "p = n.reshape(1, 32, 32, 3)\n",
        "\n",
        "predicted_label = labels[model.predict(p).argmax()]\n",
        "\n",
        "print(\"predicted label is {}\".format(predicted_label))"
      ],
      "metadata": {
        "colab": {
          "base_uri": "https://localhost:8080/",
          "height": 253
        },
        "id": "3pEHCX7NY6JB",
        "outputId": "2961e2bb-be5a-4665-be4b-33bf1a3820f1"
      },
      "execution_count": null,
      "outputs": [
        {
          "output_type": "stream",
          "name": "stdout",
          "text": [
            "1/1 [==============================] - 0s 26ms/step\n",
            "predicted label is automobile\n"
          ]
        },
        {
          "output_type": "display_data",
          "data": {
            "text/plain": [
              "<Figure size 200x200 with 1 Axes>"
            ],
            "image/png": "[encoded data removed]"
          },
          "metadata": {}
        }
      ]
    }
  ]
}